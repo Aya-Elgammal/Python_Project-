{
  "nbformat": 4,
  "nbformat_minor": 0,
  "metadata": {
    "colab": {
      "provenance": [],
      "authorship_tag": "ABX9TyNv7pguuhl+bsER1fG3LaHg",
      "include_colab_link": true
    },
    "kernelspec": {
      "name": "python3",
      "display_name": "Python 3"
    },
    "language_info": {
      "name": "python"
    }
  },
  "cells": [
    {
      "cell_type": "markdown",
      "metadata": {
        "id": "view-in-github",
        "colab_type": "text"
      },
      "source": [
        "<a href=\"https://colab.research.google.com/github/Aya-Elgammal/Python_Project-/blob/main/Numpy.ipynb\" target=\"_parent\"><img src=\"https://colab.research.google.com/assets/colab-badge.svg\" alt=\"Open In Colab\"/></a>"
      ]
    },
    {
      "cell_type": "markdown",
      "source": [
        "#<font color='86A788'>**Numpy<span class='label label-default'></span>**</font>"
      ],
      "metadata": {
        "id": "0dJFuKg7jLA0"
      }
    },
    {
      "cell_type": "code",
      "source": [
        "import numpy as np"
      ],
      "metadata": {
        "id": "BpsZcFogjQjI"
      },
      "execution_count": 1,
      "outputs": []
    },
    {
      "cell_type": "markdown",
      "source": [
        "<font color='F4D793' size='3'>**Creating Numpy Arrays**</font>"
      ],
      "metadata": {
        "id": "1ED2gKRSj4oc"
      }
    },
    {
      "cell_type": "code",
      "source": [
        "#Creating a 1D Numpy Array from a List\n",
        "my_list = [1,2,3,4,5,6,7,8]\n",
        "my_list = np.array(my_list)\n",
        "print(f\"My Array : {my_list}\")"
      ],
      "metadata": {
        "colab": {
          "base_uri": "https://localhost:8080/"
        },
        "id": "TyfXJp3mj5mD",
        "outputId": "77e280c3-fe4b-47d7-8047-879d112fab8a"
      },
      "execution_count": 2,
      "outputs": [
        {
          "output_type": "stream",
          "name": "stdout",
          "text": [
            "My Array : [1 2 3 4 5 6 7 8]\n"
          ]
        }
      ]
    },
    {
      "cell_type": "code",
      "source": [
        "#N-dimensional arrays\n",
        "sales_data = np.array([\n",
        "    [[150, 200, 500], [400, 350, 350]],  # Week 1\n",
        "    [[230, 110, 210], [210, 360, 360]],  # Week 2\n",
        "    [[270, 320, 420], [220, 270, 370]],  # Week 3\n",
        "    [[280, 330, 430], [220, 250, 380]]   # Week 4\n",
        "])#list of muli list\n",
        "print(f\"3D Array:\\n {sales_data}\")\n",
        "print(f\"Shape: {sales_data.shape}\")\n",
        "\n",
        "# Axis 0: Weeks (4 weeks).\n",
        "# Axis 1: Regions (2 regions).\n",
        "# Axis 2: Products (3 products)."
      ],
      "metadata": {
        "colab": {
          "base_uri": "https://localhost:8080/"
        },
        "id": "Anr1EEYeklmL",
        "outputId": "d84a9249-b72d-4433-b878-9660ef389edc"
      },
      "execution_count": 3,
      "outputs": [
        {
          "output_type": "stream",
          "name": "stdout",
          "text": [
            "3D Array:\n",
            " [[[150 200 500]\n",
            "  [400 350 350]]\n",
            "\n",
            " [[230 110 210]\n",
            "  [210 360 360]]\n",
            "\n",
            " [[270 320 420]\n",
            "  [220 270 370]]\n",
            "\n",
            " [[280 330 430]\n",
            "  [220 250 380]]]\n",
            "Shape: (4, 2, 3)\n"
          ]
        }
      ]
    },
    {
      "cell_type": "code",
      "source": [
        "#Creating a 2D Numpy Array from a List of Lists\n",
        "arr = np.array([[1,2,3,4],[5,6,7,8]])\n",
        "print(arr)\n",
        "#This creates a two-dimensional Numpy array arr from a list of lists."
      ],
      "metadata": {
        "colab": {
          "base_uri": "https://localhost:8080/"
        },
        "id": "sMWNPDGxmb0z",
        "outputId": "a2b73fe7-53a8-4c28-e032-728e0d118d1c"
      },
      "execution_count": 4,
      "outputs": [
        {
          "output_type": "stream",
          "name": "stdout",
          "text": [
            "[[1 2 3 4]\n",
            " [5 6 7 8]]\n"
          ]
        }
      ]
    },
    {
      "cell_type": "code",
      "source": [
        "#Creating an Array of Zeros\n",
        "zeros_arr = np.zeros((3,3))\n",
        "print(f\"Zeros Array :\\n {zeros_arr}\")\n",
        "#This creates a 3x3 Numpy array filled with zeros."
      ],
      "metadata": {
        "colab": {
          "base_uri": "https://localhost:8080/"
        },
        "id": "KdzT6eVonLln",
        "outputId": "44da20f4-90bd-4e55-dfb6-d6a3ca277c9f"
      },
      "execution_count": 5,
      "outputs": [
        {
          "output_type": "stream",
          "name": "stdout",
          "text": [
            "Zeros Array :\n",
            " [[0. 0. 0.]\n",
            " [0. 0. 0.]\n",
            " [0. 0. 0.]]\n"
          ]
        }
      ]
    },
    {
      "cell_type": "code",
      "source": [
        "#Creating an Array of Ones\n",
        "ones_arr = np.ones((3,3))\n",
        "print(f\"Ones Array :\\n {ones_arr}\")\n",
        "#This creates a 3x2 Numpy array filled with ones."
      ],
      "metadata": {
        "colab": {
          "base_uri": "https://localhost:8080/"
        },
        "id": "JEz94MyKoUkx",
        "outputId": "1d19ae1d-ff77-4bd0-9e67-b08f20056d44"
      },
      "execution_count": 6,
      "outputs": [
        {
          "output_type": "stream",
          "name": "stdout",
          "text": [
            "Ones Array :\n",
            " [[1. 1. 1.]\n",
            " [1. 1. 1.]\n",
            " [1. 1. 1.]]\n"
          ]
        }
      ]
    },
    {
      "cell_type": "code",
      "source": [
        "#Creating an Array with a Specific Range\n",
        "range_array = np.arange(1,11)\n",
        "print(f\"Range Array : {range_array}\")\n",
        "#This creates a 1D Numpy array with values from 1 to 10."
      ],
      "metadata": {
        "colab": {
          "base_uri": "https://localhost:8080/"
        },
        "id": "k85pN0-oor9S",
        "outputId": "fab69bc8-c551-4d5e-b99f-2c25ef1fed0d"
      },
      "execution_count": 7,
      "outputs": [
        {
          "output_type": "stream",
          "name": "stdout",
          "text": [
            "Range Array : [ 1  2  3  4  5  6  7  8  9 10]\n"
          ]
        }
      ]
    },
    {
      "cell_type": "code",
      "source": [
        "#Creating an Array with a Range of Values and Specific Step Size\n",
        "range_array = np.arange(1,21,3)\n",
        "print(f\"Range Array : {range_array}\")\n",
        "#This creates an array with values starting from 1 up to 19, with a step size of 2."
      ],
      "metadata": {
        "colab": {
          "base_uri": "https://localhost:8080/"
        },
        "id": "C4x0CttFpCyz",
        "outputId": "94c623ba-8e58-41a6-adb2-26580627ace2"
      },
      "execution_count": 8,
      "outputs": [
        {
          "output_type": "stream",
          "name": "stdout",
          "text": [
            "Range Array : [ 1  4  7 10 13 16 19]\n"
          ]
        }
      ]
    },
    {
      "cell_type": "code",
      "source": [
        "#Creating an Array of Evenly Spaced Values Between Two Numbers\n",
        "linspace_array = np.linspace(0,1,10)\n",
        "print(f\"Linspace Array :\\n {linspace_array}\")\n",
        "#This creates an array of 10 evenly spaced values between 0 and 1."
      ],
      "metadata": {
        "colab": {
          "base_uri": "https://localhost:8080/"
        },
        "id": "5BGUJ_ropbs8",
        "outputId": "304fcc0a-cd7f-4db2-a826-775556c40f43"
      },
      "execution_count": 9,
      "outputs": [
        {
          "output_type": "stream",
          "name": "stdout",
          "text": [
            "Linspace Array :\n",
            " [0.         0.11111111 0.22222222 0.33333333 0.44444444 0.55555556\n",
            " 0.66666667 0.77777778 0.88888889 1.        ]\n"
          ]
        }
      ]
    },
    {
      "cell_type": "code",
      "source": [
        "#Creating an Array with Random Values Between 0 and 1\n",
        "random_array = np.random.rand(4,4)\n",
        "print(f\"Random Array : \\n{random_array}\")\n",
        "#This creates a 4x4 array with random floating-point numbers between 0 and 1"
      ],
      "metadata": {
        "colab": {
          "base_uri": "https://localhost:8080/"
        },
        "id": "XipR1x8FqCaI",
        "outputId": "15753a09-d260-4386-a278-57d8ffdaa893"
      },
      "execution_count": 10,
      "outputs": [
        {
          "output_type": "stream",
          "name": "stdout",
          "text": [
            "Random Array : \n",
            "[[0.95712169 0.69189464 0.98133623 0.93640732]\n",
            " [0.19193551 0.96937741 0.46413897 0.06996448]\n",
            " [0.58260028 0.89407303 0.09480473 0.91248675]\n",
            " [0.62457998 0.79179316 0.13570288 0.90029092]]\n"
          ]
        }
      ]
    },
    {
      "cell_type": "code",
      "source": [
        "#Creating an Array with Random Integers\n",
        "random_array_int = np.random.randint(1,20,(4,4))\n",
        "print(f\"Random Integer Array : \\n{random_array_int}\")\n",
        "#This creates a 4x4 array with random integers between 1 and 18"
      ],
      "metadata": {
        "colab": {
          "base_uri": "https://localhost:8080/"
        },
        "id": "_aSdi3gPqhQ3",
        "outputId": "865c431f-3179-4d0a-ed2d-d2da30aa5508"
      },
      "execution_count": 11,
      "outputs": [
        {
          "output_type": "stream",
          "name": "stdout",
          "text": [
            "Random Integer Array : \n",
            "[[ 8 16  7 11]\n",
            " [ 4  2  8  8]\n",
            " [ 3 15 17  2]\n",
            " [ 2  8  9 11]]\n"
          ]
        }
      ]
    },
    {
      "cell_type": "code",
      "source": [
        "#Checking the Shape of an Array\n",
        "print(arr.shape)\n",
        "#This returns the shape of the array, showing it has 2 rows and 4 columns."
      ],
      "metadata": {
        "colab": {
          "base_uri": "https://localhost:8080/"
        },
        "id": "75v_rzZgrBpT",
        "outputId": "7ae142e1-b39d-49e6-85e4-e051ef386256"
      },
      "execution_count": 12,
      "outputs": [
        {
          "output_type": "stream",
          "name": "stdout",
          "text": [
            "(2, 4)\n"
          ]
        }
      ]
    },
    {
      "cell_type": "code",
      "source": [
        "#Accessing Data Type of Elements\n",
        "print(arr.dtype)\n",
        "#This checks the data type of elements in the array, showing that they are 64-bit integers"
      ],
      "metadata": {
        "colab": {
          "base_uri": "https://localhost:8080/"
        },
        "id": "Bu0g9Wn2rh03",
        "outputId": "9f1fcbf9-3746-4b56-be8e-acb0e61d050c"
      },
      "execution_count": 13,
      "outputs": [
        {
          "output_type": "stream",
          "name": "stdout",
          "text": [
            "int64\n"
          ]
        }
      ]
    },
    {
      "cell_type": "code",
      "source": [
        "#Indexing a 1D Array\n",
        "print (f\"First Element in Array : {my_list[0]},Last Element in Array : {my_list[-1]},Fourth Element in Array: {my_list[3]}\")"
      ],
      "metadata": {
        "colab": {
          "base_uri": "https://localhost:8080/"
        },
        "id": "x7xrbqDDryK2",
        "outputId": "2befa042-1483-4267-cba6-05a50c0e872b"
      },
      "execution_count": 14,
      "outputs": [
        {
          "output_type": "stream",
          "name": "stdout",
          "text": [
            "First Element in Array : 1,Last Element in Array : 8,Fourth Element in Array: 4\n"
          ]
        }
      ]
    },
    {
      "cell_type": "code",
      "source": [
        "#Slicing a 1D Array\n",
        "print(f\"First Four Elements in Array : {my_list[0:4]}\")\n",
        "#This slices the array to get a subarray from index 1 to 3"
      ],
      "metadata": {
        "colab": {
          "base_uri": "https://localhost:8080/"
        },
        "id": "H_ChMsMk2hZD",
        "outputId": "1c2506fe-e538-4b6e-d36c-5e0b983839c8"
      },
      "execution_count": 15,
      "outputs": [
        {
          "output_type": "stream",
          "name": "stdout",
          "text": [
            "First Four Elements in Array : [1 2 3 4]\n"
          ]
        }
      ]
    },
    {
      "cell_type": "code",
      "source": [
        "#Indexing a 2D Array\n",
        "print(arr[0:2,1:])\n",
        "#This slices the array to get a subarray from 0 to row 1 and columns 1 to the end"
      ],
      "metadata": {
        "colab": {
          "base_uri": "https://localhost:8080/"
        },
        "id": "lRA18IEA29mb",
        "outputId": "548c89a7-e4d3-4ee7-9d91-762c23df341d"
      },
      "execution_count": 16,
      "outputs": [
        {
          "output_type": "stream",
          "name": "stdout",
          "text": [
            "[[2 3 4]\n",
            " [6 7 8]]\n"
          ]
        }
      ]
    },
    {
      "cell_type": "markdown",
      "source": [
        "<font color='F4D793' size='3'>**Indexing a 2D Array (matrices)**</font>"
      ],
      "metadata": {
        "id": "tclgQCz168wA"
      }
    },
    {
      "cell_type": "code",
      "source": [
        "#Indexing a 2D Array (matrices)\n",
        "mat = np.array(([5,10,20],[20,25,30],[34,40,10]))\n",
        "mat"
      ],
      "metadata": {
        "colab": {
          "base_uri": "https://localhost:8080/"
        },
        "id": "R09V7oVH3tH8",
        "outputId": "0ce8e510-9c07-46a7-b90e-76b208f95996"
      },
      "execution_count": 17,
      "outputs": [
        {
          "output_type": "execute_result",
          "data": {
            "text/plain": [
              "array([[ 5, 10, 20],\n",
              "       [20, 25, 30],\n",
              "       [34, 40, 10]])"
            ]
          },
          "metadata": {},
          "execution_count": 17
        }
      ]
    },
    {
      "cell_type": "code",
      "source": [
        "#Indexing a row\n",
        "print(f\"mat[1] = {mat[1]} , mat[2] = {mat[2]}\")"
      ],
      "metadata": {
        "colab": {
          "base_uri": "https://localhost:8080/"
        },
        "id": "rJwlBc3P4atI",
        "outputId": "4a8619d9-a5c9-4e4c-a89c-43d2205eb06b"
      },
      "execution_count": 18,
      "outputs": [
        {
          "output_type": "stream",
          "name": "stdout",
          "text": [
            "mat[1] = [20 25 30] , mat[2] = [34 40 10]\n"
          ]
        }
      ]
    },
    {
      "cell_type": "code",
      "source": [
        "#Geting individual values\n",
        "print(f\"mat[1][1] = {mat[1][1]}\")"
      ],
      "metadata": {
        "colab": {
          "base_uri": "https://localhost:8080/"
        },
        "id": "GG3ImdtB4jQU",
        "outputId": "b01c1098-b571-4fa8-9470-0aef8c6359e7"
      },
      "execution_count": 19,
      "outputs": [
        {
          "output_type": "stream",
          "name": "stdout",
          "text": [
            "mat[1][1] = 25\n"
          ]
        }
      ]
    },
    {
      "cell_type": "code",
      "source": [
        "#Geting individual values\n",
        "print(f\"mat[1,1] = {mat[1,1]}\")"
      ],
      "metadata": {
        "colab": {
          "base_uri": "https://localhost:8080/"
        },
        "id": "iceqj-ZH5H82",
        "outputId": "203a7301-76f4-498f-89f2-5fedae01fc3d"
      },
      "execution_count": 20,
      "outputs": [
        {
          "output_type": "stream",
          "name": "stdout",
          "text": [
            "mat[1,1] = 25\n"
          ]
        }
      ]
    },
    {
      "cell_type": "code",
      "source": [
        "#Find top right corner\n",
        "mat[:2,1:]"
      ],
      "metadata": {
        "colab": {
          "base_uri": "https://localhost:8080/"
        },
        "id": "XFxILntv5WP6",
        "outputId": "a0e7097b-1b02-4bf0-e513-620948e1654e"
      },
      "execution_count": 21,
      "outputs": [
        {
          "output_type": "execute_result",
          "data": {
            "text/plain": [
              "array([[10, 20],\n",
              "       [25, 30]])"
            ]
          },
          "metadata": {},
          "execution_count": 21
        }
      ]
    },
    {
      "cell_type": "code",
      "source": [
        "#Find bottom left corner\n",
        "mat[1:,:2]"
      ],
      "metadata": {
        "colab": {
          "base_uri": "https://localhost:8080/"
        },
        "id": "iF51UKB95vty",
        "outputId": "31e37d19-fa23-4e22-e4c6-bc314035c2af"
      },
      "execution_count": 22,
      "outputs": [
        {
          "output_type": "execute_result",
          "data": {
            "text/plain": [
              "array([[20, 25],\n",
              "       [34, 40]])"
            ]
          },
          "metadata": {},
          "execution_count": 22
        }
      ]
    },
    {
      "cell_type": "code",
      "source": [
        "#shape botton row\n",
        "mat[2,:]"
      ],
      "metadata": {
        "colab": {
          "base_uri": "https://localhost:8080/"
        },
        "id": "IditYuZM6aZj",
        "outputId": "e5d0a42d-d5e0-4812-8d1f-e116f446c2ff"
      },
      "execution_count": 23,
      "outputs": [
        {
          "output_type": "execute_result",
          "data": {
            "text/plain": [
              "array([34, 40, 10])"
            ]
          },
          "metadata": {},
          "execution_count": 23
        }
      ]
    },
    {
      "cell_type": "markdown",
      "source": [
        "<font color='86A788' size='3'>**Slicing a 2D Array**</font>"
      ],
      "metadata": {
        "id": "0d8JT5Uq7WMp"
      }
    },
    {
      "cell_type": "code",
      "source": [
        "a = np.array([[1,2,3,4,5,6,7],[8,9,10,11,12,13,14]])\n",
        "print(f\"a = \\n {a}\")"
      ],
      "metadata": {
        "colab": {
          "base_uri": "https://localhost:8080/"
        },
        "id": "uAqS3y7W6m8B",
        "outputId": "49c010d8-97ef-4000-b241-2cc0a9e5836f"
      },
      "execution_count": 24,
      "outputs": [
        {
          "output_type": "stream",
          "name": "stdout",
          "text": [
            "a = \n",
            " [[ 1  2  3  4  5  6  7]\n",
            " [ 8  9 10 11 12 13 14]]\n"
          ]
        }
      ]
    },
    {
      "cell_type": "code",
      "source": [
        "#geting specific element [r,c]\n",
        "a[1,4]"
      ],
      "metadata": {
        "colab": {
          "base_uri": "https://localhost:8080/"
        },
        "id": "K35InEm277UC",
        "outputId": "fa0cee9b-9374-4ad1-86a5-d2a0bf67e938"
      },
      "execution_count": 25,
      "outputs": [
        {
          "output_type": "execute_result",
          "data": {
            "text/plain": [
              "12"
            ]
          },
          "metadata": {},
          "execution_count": 25
        }
      ]
    },
    {
      "cell_type": "code",
      "source": [
        "#geting specific row\n",
        "a[0,:]"
      ],
      "metadata": {
        "colab": {
          "base_uri": "https://localhost:8080/"
        },
        "id": "CNxDqltB8NOZ",
        "outputId": "bd9e548d-c714-4dda-c1b8-516062d293e0"
      },
      "execution_count": 26,
      "outputs": [
        {
          "output_type": "execute_result",
          "data": {
            "text/plain": [
              "array([1, 2, 3, 4, 5, 6, 7])"
            ]
          },
          "metadata": {},
          "execution_count": 26
        }
      ]
    },
    {
      "cell_type": "code",
      "source": [
        "#geting specific columns\n",
        "a[:,0]"
      ],
      "metadata": {
        "colab": {
          "base_uri": "https://localhost:8080/"
        },
        "id": "97Z9cjPZ8cJw",
        "outputId": "d3ab2559-9493-46a8-c82f-52ebade2cd62"
      },
      "execution_count": 27,
      "outputs": [
        {
          "output_type": "execute_result",
          "data": {
            "text/plain": [
              "array([1, 8])"
            ]
          },
          "metadata": {},
          "execution_count": 27
        }
      ]
    },
    {
      "cell_type": "code",
      "source": [
        "#geting more fancy\n",
        "a[0,1:-1:2]"
      ],
      "metadata": {
        "colab": {
          "base_uri": "https://localhost:8080/"
        },
        "id": "P6APRuiW8q2_",
        "outputId": "6b0edb64-f11d-411c-8bce-0e9a6d07c7a2"
      },
      "execution_count": 28,
      "outputs": [
        {
          "output_type": "execute_result",
          "data": {
            "text/plain": [
              "array([2, 4, 6])"
            ]
          },
          "metadata": {},
          "execution_count": 28
        }
      ]
    },
    {
      "cell_type": "markdown",
      "source": [
        "<font color='86A788' size='3'>**Boolean Array Indexing**</font>"
      ],
      "metadata": {
        "id": "6Kn9ttCu-SNM"
      }
    },
    {
      "cell_type": "code",
      "source": [
        "a = np.arange(1, 11)"
      ],
      "metadata": {
        "id": "eIntBiOd-RSa"
      },
      "execution_count": 29,
      "outputs": []
    },
    {
      "cell_type": "code",
      "source": [
        "#Applying a Boolean Condition\n",
        "print(f\" if a >  4 : \\n{a >  4}\")"
      ],
      "metadata": {
        "colab": {
          "base_uri": "https://localhost:8080/"
        },
        "id": "8KlP0XaT-ynF",
        "outputId": "0cdb58b7-c9e0-4520-9474-e1743142fab5"
      },
      "execution_count": 30,
      "outputs": [
        {
          "output_type": "stream",
          "name": "stdout",
          "text": [
            " if a >  4 : \n",
            "[False False False False  True  True  True  True  True  True]\n"
          ]
        }
      ]
    },
    {
      "cell_type": "code",
      "source": [
        "#Storing the Boolean Mask\n",
        "bool_A = a > 4\n",
        "print(bool_A)"
      ],
      "metadata": {
        "colab": {
          "base_uri": "https://localhost:8080/"
        },
        "id": "6iPzdgAc-5Ry",
        "outputId": "4ab1589f-192c-4a89-f62c-f13354ac4a7f"
      },
      "execution_count": 31,
      "outputs": [
        {
          "output_type": "stream",
          "name": "stdout",
          "text": [
            "[False False False False  True  True  True  True  True  True]\n"
          ]
        }
      ]
    },
    {
      "cell_type": "code",
      "source": [
        "#Using Boolean Indexing\n",
        "a[bool_A]"
      ],
      "metadata": {
        "colab": {
          "base_uri": "https://localhost:8080/"
        },
        "id": "gM7nypcP_Xyd",
        "outputId": "76e528c9-6420-4b78-9d66-e96ed2d250f2"
      },
      "execution_count": 32,
      "outputs": [
        {
          "output_type": "execute_result",
          "data": {
            "text/plain": [
              "array([ 5,  6,  7,  8,  9, 10])"
            ]
          },
          "metadata": {},
          "execution_count": 32
        }
      ]
    },
    {
      "cell_type": "code",
      "source": [
        "# Applying Another Example with a >= 2\n",
        "print(f\" if a >= 2 : \\n{a >= 2}\")"
      ],
      "metadata": {
        "colab": {
          "base_uri": "https://localhost:8080/"
        },
        "id": "85T_3_xc_ehM",
        "outputId": "09a311b3-77ab-45dc-d80d-731578b88ec5"
      },
      "execution_count": 33,
      "outputs": [
        {
          "output_type": "stream",
          "name": "stdout",
          "text": [
            " if a >= 2 : \n",
            "[False  True  True  True  True  True  True  True  True  True]\n"
          ]
        }
      ]
    },
    {
      "cell_type": "markdown",
      "source": [
        "<font color='F4D793' size='3'>**Creating Numpy Arrays**</font>"
      ],
      "metadata": {
        "id": "i3thG8jv_-9L"
      }
    },
    {
      "cell_type": "code",
      "source": [
        "arr1 = np.array([1,2,3,4])\n",
        "arr2 = np.array([5,6,7,8])\n",
        "print(f\"arr1 + arr2 = \\n {arr1+arr2}\")"
      ],
      "metadata": {
        "colab": {
          "base_uri": "https://localhost:8080/"
        },
        "id": "fVMn_htI_wKg",
        "outputId": "a2086f4e-b59e-4ca3-b670-3bfd58449e52"
      },
      "execution_count": 34,
      "outputs": [
        {
          "output_type": "stream",
          "name": "stdout",
          "text": [
            "arr1 + arr2 = \n",
            " [ 6  8 10 12]\n"
          ]
        }
      ]
    },
    {
      "cell_type": "code",
      "source": [
        "x = np.array([[1,2],[3,4]], dtype=np.float64)\n",
        "y = np.array([[5,6],[7,8]], dtype=np.float64)\n",
        "print(f\"X =\\n {x},\\n Y =\\n {y}\")"
      ],
      "metadata": {
        "colab": {
          "base_uri": "https://localhost:8080/"
        },
        "id": "REIEXK0oAoDl",
        "outputId": "9d4690e1-da2e-47da-d3eb-8c83869eba06"
      },
      "execution_count": 35,
      "outputs": [
        {
          "output_type": "stream",
          "name": "stdout",
          "text": [
            "X =\n",
            " [[1. 2.]\n",
            " [3. 4.]],\n",
            " Y =\n",
            " [[5. 6.]\n",
            " [7. 8.]]\n"
          ]
        }
      ]
    },
    {
      "cell_type": "code",
      "source": [
        "#Element-wise Addition\n",
        "print(\"X + Y = \\n\",x + y)\n",
        "print(\"Add Function = \\n\",np.add(x, y))"
      ],
      "metadata": {
        "colab": {
          "base_uri": "https://localhost:8080/"
        },
        "id": "YgYfzAhpCdPG",
        "outputId": "3d523f97-2ed8-4786-a1ed-37a9bb7a4102"
      },
      "execution_count": 36,
      "outputs": [
        {
          "output_type": "stream",
          "name": "stdout",
          "text": [
            "X + Y = \n",
            " [[ 6.  8.]\n",
            " [10. 12.]]\n",
            "Add Function = \n",
            " [[ 6.  8.]\n",
            " [10. 12.]]\n"
          ]
        }
      ]
    },
    {
      "cell_type": "code",
      "source": [
        "#Element-wise Subtraction\n",
        "print(\"X - Y = \\n\",x - y)\n",
        "print(\"Subtract Function = \\n\",np.subtract(x, y))"
      ],
      "metadata": {
        "colab": {
          "base_uri": "https://localhost:8080/"
        },
        "id": "x8H0C8d4C85u",
        "outputId": "7824aa19-ca65-4a3d-cc6a-dd49817fca52"
      },
      "execution_count": 37,
      "outputs": [
        {
          "output_type": "stream",
          "name": "stdout",
          "text": [
            "X - Y = \n",
            " [[-4. -4.]\n",
            " [-4. -4.]]\n",
            "Subtract Function = \n",
            " [[-4. -4.]\n",
            " [-4. -4.]]\n"
          ]
        }
      ]
    },
    {
      "cell_type": "code",
      "source": [
        "#Element-wise Multiplication\n",
        "print(\"X * Y = \\n\",x * y)\n",
        "print(\"Multiply Function = \\n\",np.multiply(x, y))"
      ],
      "metadata": {
        "colab": {
          "base_uri": "https://localhost:8080/"
        },
        "id": "AJBiJRlPDcwC",
        "outputId": "2e04c9d1-dc9b-4abf-dc23-a684d7b7fec1"
      },
      "execution_count": 38,
      "outputs": [
        {
          "output_type": "stream",
          "name": "stdout",
          "text": [
            "X * Y = \n",
            " [[ 5. 12.]\n",
            " [21. 32.]]\n",
            "Multiply Function = \n",
            " [[ 5. 12.]\n",
            " [21. 32.]]\n"
          ]
        }
      ]
    },
    {
      "cell_type": "code",
      "source": [
        "#Element-wise Division\n",
        "print(\"X / Y = \\n\",x / y)\n",
        "print(\"Divide Function = \\n\",np.divide(x, y))"
      ],
      "metadata": {
        "colab": {
          "base_uri": "https://localhost:8080/"
        },
        "id": "3_8E-LKcDso5",
        "outputId": "9a25e645-7806-42cd-d6b9-6793b9e71b5e"
      },
      "execution_count": 39,
      "outputs": [
        {
          "output_type": "stream",
          "name": "stdout",
          "text": [
            "X / Y = \n",
            " [[0.2        0.33333333]\n",
            " [0.42857143 0.5       ]]\n",
            "Divide Function = \n",
            " [[0.2        0.33333333]\n",
            " [0.42857143 0.5       ]]\n"
          ]
        }
      ]
    },
    {
      "cell_type": "code",
      "source": [
        "#Dot Product\n",
        "np.dot(x, y)"
      ],
      "metadata": {
        "colab": {
          "base_uri": "https://localhost:8080/"
        },
        "id": "FHe-7QSOEAGi",
        "outputId": "d58e5a05-7b31-45b5-b580-1f1e98fef0e2"
      },
      "execution_count": 40,
      "outputs": [
        {
          "output_type": "execute_result",
          "data": {
            "text/plain": [
              "array([[19., 22.],\n",
              "       [43., 50.]])"
            ]
          },
          "metadata": {},
          "execution_count": 40
        }
      ]
    },
    {
      "cell_type": "markdown",
      "source": [
        "<font color='F4D793' size='3'>**Array Broadcasting**</font>"
      ],
      "metadata": {
        "id": "9mT6iM_AEjfD"
      }
    },
    {
      "cell_type": "code",
      "source": [
        "print(x+10)"
      ],
      "metadata": {
        "colab": {
          "base_uri": "https://localhost:8080/"
        },
        "id": "_c2epZrcEc3J",
        "outputId": "7f0e6faa-5434-42d3-8193-3dfafb4e5f72"
      },
      "execution_count": 41,
      "outputs": [
        {
          "output_type": "stream",
          "name": "stdout",
          "text": [
            "[[11. 12.]\n",
            " [13. 14.]]\n"
          ]
        }
      ]
    },
    {
      "cell_type": "code",
      "source": [
        "x = np.array([[1,2,3], [4,5,6], [7,8,9], [10,11,12]])\n",
        "v = np.array([1, 0, 1])\n",
        "y = np.empty_like(x)\n",
        "print(y)"
      ],
      "metadata": {
        "colab": {
          "base_uri": "https://localhost:8080/"
        },
        "id": "0Jz6TXuLFskK",
        "outputId": "b5a58fa2-cead-4766-baf1-eaa468369842"
      },
      "execution_count": 42,
      "outputs": [
        {
          "output_type": "stream",
          "name": "stdout",
          "text": [
            "[[33508613582           0           0]\n",
            " [          0           0           0]\n",
            " [          0           0           0]\n",
            " [          0           0           0]]\n"
          ]
        }
      ]
    },
    {
      "cell_type": "code",
      "source": [
        "for i in range(4):\n",
        "    y[i, :] = x[i, :] + v\n",
        "print(y)"
      ],
      "metadata": {
        "colab": {
          "base_uri": "https://localhost:8080/"
        },
        "id": "O12zsgYbGFAH",
        "outputId": "e365a477-5c67-47e0-d4af-cb5d628448a1"
      },
      "execution_count": 43,
      "outputs": [
        {
          "output_type": "stream",
          "name": "stdout",
          "text": [
            "[[ 2  2  4]\n",
            " [ 5  5  7]\n",
            " [ 8  8 10]\n",
            " [11 11 13]]\n"
          ]
        }
      ]
    },
    {
      "cell_type": "code",
      "source": [
        "y = x + v\n",
        "print(x,\"\\n*************\\n\",y)"
      ],
      "metadata": {
        "colab": {
          "base_uri": "https://localhost:8080/"
        },
        "id": "aNPSeCaYGTsv",
        "outputId": "f7d68be3-db11-480a-bb88-f2be07e5fab1"
      },
      "execution_count": 44,
      "outputs": [
        {
          "output_type": "stream",
          "name": "stdout",
          "text": [
            "[[ 1  2  3]\n",
            " [ 4  5  6]\n",
            " [ 7  8  9]\n",
            " [10 11 12]] \n",
            "*************\n",
            " [[ 2  2  4]\n",
            " [ 5  5  7]\n",
            " [ 8  8 10]\n",
            " [11 11 13]]\n"
          ]
        }
      ]
    },
    {
      "cell_type": "code",
      "source": [
        "print(np.max(arr))\n",
        "print(np.min(arr))"
      ],
      "metadata": {
        "colab": {
          "base_uri": "https://localhost:8080/"
        },
        "id": "B_ymrQz5GrTY",
        "outputId": "56b55ee0-ebbc-4fc9-cb73-65f930914d1d"
      },
      "execution_count": 45,
      "outputs": [
        {
          "output_type": "stream",
          "name": "stdout",
          "text": [
            "8\n",
            "1\n"
          ]
        }
      ]
    },
    {
      "cell_type": "markdown",
      "source": [
        "<font color='86A788' size='3'>**quiz_time_**</font>"
      ],
      "metadata": {
        "id": "sJt7002XUYls"
      }
    },
    {
      "cell_type": "code",
      "source": [
        "arr3 = np.arange(1, 31).reshape(6, 5)\n",
        "arr3"
      ],
      "metadata": {
        "colab": {
          "base_uri": "https://localhost:8080/"
        },
        "id": "gJjZHS5TUXtu",
        "outputId": "78353c92-e751-4c23-af02-45f680f545f3"
      },
      "execution_count": 46,
      "outputs": [
        {
          "output_type": "execute_result",
          "data": {
            "text/plain": [
              "array([[ 1,  2,  3,  4,  5],\n",
              "       [ 6,  7,  8,  9, 10],\n",
              "       [11, 12, 13, 14, 15],\n",
              "       [16, 17, 18, 19, 20],\n",
              "       [21, 22, 23, 24, 25],\n",
              "       [26, 27, 28, 29, 30]])"
            ]
          },
          "metadata": {},
          "execution_count": 46
        }
      ]
    },
    {
      "cell_type": "code",
      "source": [
        "arr3[2:4,0:2]"
      ],
      "metadata": {
        "colab": {
          "base_uri": "https://localhost:8080/"
        },
        "id": "M9G6mIMpUm5Y",
        "outputId": "d79e5b15-be77-4bbe-b9a1-45df243e094e"
      },
      "execution_count": 47,
      "outputs": [
        {
          "output_type": "execute_result",
          "data": {
            "text/plain": [
              "array([[11, 12],\n",
              "       [16, 17]])"
            ]
          },
          "metadata": {},
          "execution_count": 47
        }
      ]
    },
    {
      "cell_type": "code",
      "source": [
        "arr[0:1,3:]"
      ],
      "metadata": {
        "colab": {
          "base_uri": "https://localhost:8080/"
        },
        "id": "8VcKzECmUmsh",
        "outputId": "b7caccc6-f560-4ebf-8ba2-1f5c771ea1ec"
      },
      "execution_count": 48,
      "outputs": [
        {
          "output_type": "execute_result",
          "data": {
            "text/plain": [
              "array([[4]])"
            ]
          },
          "metadata": {},
          "execution_count": 48
        }
      ]
    },
    {
      "cell_type": "code",
      "source": [
        "arr[4:,3:]"
      ],
      "metadata": {
        "colab": {
          "base_uri": "https://localhost:8080/"
        },
        "id": "gnZm4uKNU3hY",
        "outputId": "47a8a255-8c44-430c-8cd2-eb256016f905"
      },
      "execution_count": 49,
      "outputs": [
        {
          "output_type": "execute_result",
          "data": {
            "text/plain": [
              "array([], shape=(0, 1), dtype=int64)"
            ]
          },
          "metadata": {},
          "execution_count": 49
        }
      ]
    },
    {
      "cell_type": "code",
      "source": [
        "arr3[:] = 0\n",
        "arr3[[0, 1, 2, 3], [1, 1, 1, 1]] = [2, 8, 14, 20]\n",
        "arr3"
      ],
      "metadata": {
        "colab": {
          "base_uri": "https://localhost:8080/"
        },
        "id": "-bA56nMQU9bV",
        "outputId": "9be8755a-7acf-48a9-ff3a-70c02e99b824"
      },
      "execution_count": 50,
      "outputs": [
        {
          "output_type": "execute_result",
          "data": {
            "text/plain": [
              "array([[ 0,  2,  0,  0,  0],\n",
              "       [ 0,  8,  0,  0,  0],\n",
              "       [ 0, 14,  0,  0,  0],\n",
              "       [ 0, 20,  0,  0,  0],\n",
              "       [ 0,  0,  0,  0,  0],\n",
              "       [ 0,  0,  0,  0,  0]])"
            ]
          },
          "metadata": {},
          "execution_count": 50
        }
      ]
    }
  ]
}